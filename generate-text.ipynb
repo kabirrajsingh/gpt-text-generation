{
 "cells": [
  {
   "cell_type": "code",
   "execution_count": 1,
   "metadata": {},
   "outputs": [
    {
     "name": "stderr",
     "output_type": "stream",
     "text": [
      "c:\\Users\\kabir\\AppData\\Local\\Programs\\Python\\Python39\\lib\\site-packages\\tqdm\\auto.py:21: TqdmWarning: IProgress not found. Please update jupyter and ipywidgets. See https://ipywidgets.readthedocs.io/en/stable/user_install.html\n",
      "  from .autonotebook import tqdm as notebook_tqdm\n"
     ]
    }
   ],
   "source": [
    "from transformers import GPT2LMHeadModel, GPT2Tokenizer\n",
    "\n",
    "model_path = \"./fine-tuned-gpt\" \n",
    "model = GPT2LMHeadModel.from_pretrained(model_path)\n",
    "tokenizer = GPT2Tokenizer.from_pretrained(model_path)"
   ]
  },
  {
   "cell_type": "code",
   "execution_count": 7,
   "metadata": {},
   "outputs": [],
   "source": [
    "prompt = \"The future relationship with Maldives as addressed by the Indian PM\" \n",
    "input_ids = tokenizer.encode(prompt, return_tensors=\"pt\")"
   ]
  },
  {
   "cell_type": "code",
   "execution_count": 3,
   "metadata": {},
   "outputs": [],
   "source": [
    "max_length = 300  \n",
    "temperature = 0.7 "
   ]
  },
  {
   "cell_type": "code",
   "execution_count": 8,
   "metadata": {},
   "outputs": [
    {
     "name": "stderr",
     "output_type": "stream",
     "text": [
      "The attention mask and the pad token id were not set. As a consequence, you may observe unexpected behavior. Please pass your input's `attention_mask` to obtain reliable results.\n",
      "Setting `pad_token_id` to `eos_token_id`:50256 for open-end generation.\n"
     ]
    }
   ],
   "source": [
    "output = model.generate(\n",
    "    input_ids,\n",
    "    max_length=max_length,\n",
    "    temperature=temperature,\n",
    "    num_beams=5,  # for beam search\n",
    "    no_repeat_ngram_size=2  # avoiding n gram\n",
    ")"
   ]
  },
  {
   "cell_type": "code",
   "execution_count": 9,
   "metadata": {},
   "outputs": [
    {
     "name": "stdout",
     "output_type": "stream",
     "text": [
      "The future relationship with Maldives as addressed by the Indian PM will be one of mutual interest and mutual respect.  And I’m confident that the two countries will continue to work together to advance the interests of the people of both countries.\n",
      "\n",
      "Thank you very much, everybody.\n",
      "\n",
      "\n",
      "\n",
      "\n",
      "Mr. President, Mr. Secretary General, members of Congress, and the American people, thank you so much for your extraordinary leadership in this difficult time. I want to thank all of you for the extraordinary work that you do each and every day to keep us safe and secure in the event of a nuclear-armed North Korea. As I said before, the United States is prepared to use all elements of our power to protect our people and our allies, including our nuclear weapons. And we will do so in a manner that is consistent with international law and international norms, as well as the principle of non-proliferation -- a principle that recognizes the right of all nations to determine their own nuclear program and to pursue peaceful nuclear energy. That is why I have directed the Secretary of State, John Kerry, to convene a meeting of my national security team this week to discuss the situation in South Korea and how we can work with the international community to resolve this issue diplomatically and legally. We will work closely with our international partners to make sure that we are meeting our obligations under the Nuclear Non-Approved Framework Agreement, which is the basis for all U.N. Security Council\n"
     ]
    }
   ],
   "source": [
    "generated_text = tokenizer.decode(output[0], skip_special_tokens=True)\n",
    "print(generated_text)"
   ]
  },
  {
   "cell_type": "code",
   "execution_count": null,
   "metadata": {},
   "outputs": [],
   "source": []
  }
 ],
 "metadata": {
  "kernelspec": {
   "display_name": "Python 3",
   "language": "python",
   "name": "python3"
  },
  "language_info": {
   "codemirror_mode": {
    "name": "ipython",
    "version": 3
   },
   "file_extension": ".py",
   "mimetype": "text/x-python",
   "name": "python",
   "nbconvert_exporter": "python",
   "pygments_lexer": "ipython3",
   "version": "3.9.13"
  }
 },
 "nbformat": 4,
 "nbformat_minor": 2
}
